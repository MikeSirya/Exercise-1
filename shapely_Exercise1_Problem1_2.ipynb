{
  "nbformat": 4,
  "nbformat_minor": 0,
  "metadata": {
    "colab": {
      "provenance": [],
      "include_colab_link": true
    },
    "kernelspec": {
      "name": "python3",
      "display_name": "Python 3"
    },
    "language_info": {
      "name": "python"
    }
  },
  "cells": [
    {
      "cell_type": "markdown",
      "metadata": {
        "id": "view-in-github",
        "colab_type": "text"
      },
      "source": [
        "<a href=\"https://colab.research.google.com/github/MikeSirya/Exercise-1/blob/main/shapely_Exercise1_Problem1_2.ipynb\" target=\"_parent\"><img src=\"https://colab.research.google.com/assets/colab-badge.svg\" alt=\"Open In Colab\"/></a>"
      ]
    },
    {
      "cell_type": "markdown",
      "source": [
        "Source: https://github.com/Automating-GIS-processes-2022/Exercise-1/blob/main/Exercise-1-problem-1-2.ipynb"
      ],
      "metadata": {
        "id": "BHs6ggXof-wJ"
      }
    },
    {
      "cell_type": "markdown",
      "source": [
        "### Exercise 1: Working with Geometric Objects"
      ],
      "metadata": {
        "id": "d_SA9C7LgCRU"
      }
    },
    {
      "cell_type": "markdown",
      "source": [
        "#### Problem 1: Creating basic geometries\n",
        "\n",
        "You will create custom functions that create geometry objects."
      ],
      "metadata": {
        "id": "lwIJzwWqgNNk"
      }
    },
    {
      "cell_type": "code",
      "source": [
        "import shapely \n",
        "from shapely.geometry import Point, LineString, Polygon"
      ],
      "metadata": {
        "id": "sV2M1vDChgn0"
      },
      "execution_count": 50,
      "outputs": []
    },
    {
      "cell_type": "markdown",
      "source": [
        "1. Create a function called **create_point_geometry()** that accepts two parameters, `x_coord` and `y_coord`. The function should return a `shapely.geometry.Point` geometry object."
      ],
      "metadata": {
        "id": "KhVcKiq9gcMb"
      }
    },
    {
      "cell_type": "code",
      "source": [
        "def create_point_geometry(x_coord,y_coord):\n",
        "  return Point(x_coord,y_coord);\n",
        "# function create_point_geometry()"
      ],
      "metadata": {
        "id": "iRS2pAPFgZVV"
      },
      "execution_count": 51,
      "outputs": []
    },
    {
      "cell_type": "code",
      "source": [
        "point1 = create_point_geometry(0.0,1.1)\n",
        "# Demonstrate how to use your function: Create a point object with coordinates 0.0 and 1.1, and store the result in a variable called point1."
      ],
      "metadata": {
        "id": "vpv_JF4MtoxG"
      },
      "execution_count": 52,
      "outputs": []
    },
    {
      "cell_type": "code",
      "source": [
        "print(point1)\n",
        "print(point1.geom_type)"
      ],
      "metadata": {
        "id": "OxxttFgTh6O1",
        "colab": {
          "base_uri": "https://localhost:8080/"
        },
        "outputId": "5014dbe2-5886-4bc4-8459-7636367b84e6"
      },
      "execution_count": 53,
      "outputs": [
        {
          "output_type": "stream",
          "name": "stdout",
          "text": [
            "POINT (0 1.1)\n",
            "Point\n"
          ]
        }
      ]
    },
    {
      "cell_type": "markdown",
      "source": [
        "2. Create a function called **create_line_geometry()** that takes a list of `shapely.geometry.Points` as an argument, and returns a `shapely.geometry.LineString` object of those input points."
      ],
      "metadata": {
        "id": "4ErNhlZ3iHYN"
      }
    },
    {
      "cell_type": "code",
      "source": [
        "from IPython.lib.display import YouTubeVideo\n",
        "\n",
        "def create_line_geometry(list):\n",
        "  return LineString(list)\n",
        "\n",
        "# function create_line_geometry()"
      ],
      "metadata": {
        "id": "C_fG_mBciOFz"
      },
      "execution_count": 54,
      "outputs": []
    },
    {
      "cell_type": "code",
      "source": [
        "line = [(45.2, 22.34), (100.22, -3.20)];\n",
        "line1 = create_line_geometry(line);\n",
        "\n",
        "# Demonstrate how to use your function: Create a line object with two points, Point(45.2, 22.34) and Point(100.22, -3.20), and store the result in a variable called line1."
      ],
      "metadata": {
        "id": "ecal8z2eiX1S"
      },
      "execution_count": 55,
      "outputs": []
    },
    {
      "cell_type": "code",
      "source": [
        "print(line1)\n",
        "print(line1.geom_type)"
      ],
      "metadata": {
        "id": "GlhwmecosPLR",
        "colab": {
          "base_uri": "https://localhost:8080/"
        },
        "outputId": "4b079c85-cbf3-48ea-feba-0a6662ca336e"
      },
      "execution_count": 56,
      "outputs": [
        {
          "output_type": "stream",
          "name": "stdout",
          "text": [
            "LINESTRING (45.2 22.34, 100.22 -3.2)\n",
            "LineString\n"
          ]
        }
      ]
    },
    {
      "cell_type": "markdown",
      "source": [
        "3. Create a function **create_polygon_geometry()** that accepts one parameter `coordinates`. `coordinates` should be a list of coordinate tuples. The function should create and return a `shapely.geometry.Polygon` object based on these coordinates."
      ],
      "metadata": {
        "id": "w8LJ84XFiwGY"
      }
    },
    {
      "cell_type": "code",
      "source": [
        "def create_polygon_geometry(coordinates):\n",
        "  return Polygon(coordinates);\n",
        "# function create_polygon_geometry()"
      ],
      "metadata": {
        "id": "ELT8aXnWi9Mz"
      },
      "execution_count": 57,
      "outputs": []
    },
    {
      "cell_type": "code",
      "source": [
        "coordinates = [(45.2, 22.34), (100.22, -3.20), (70.0, 10.20)];\n",
        "polygon1 = create_polygon_geometry(coordinates);\n",
        "# Demonstrate how to use the function. For example, create a Polygon polygon1 with three points: (45.2, 22.34), (100.22, -3.20), (70.0, 10.20)."
      ],
      "metadata": {
        "id": "GhExBJE6jH9h"
      },
      "execution_count": 58,
      "outputs": []
    },
    {
      "cell_type": "code",
      "source": [
        "print(polygon1)\n",
        "print(polygon1.geom_type)"
      ],
      "metadata": {
        "id": "pKU4SlCgsq6g",
        "colab": {
          "base_uri": "https://localhost:8080/"
        },
        "outputId": "b70fd5b9-a298-4cb6-db10-ccad43fcc4f3"
      },
      "execution_count": 59,
      "outputs": [
        {
          "output_type": "stream",
          "name": "stdout",
          "text": [
            "POLYGON ((45.2 22.34, 100.22 -3.2, 70 10.2, 45.2 22.34))\n",
            "Polygon\n"
          ]
        }
      ]
    },
    {
      "cell_type": "markdown",
      "source": [
        "#### Problem 2: Attributes of geometries\n",
        "\n",
        "You will look at the geometric properties of geometries, and how to access them."
      ],
      "metadata": {
        "id": "BGcgFy-Djfuv"
      }
    },
    {
      "cell_type": "markdown",
      "source": [
        "4. Create a function called `get_centroid()` that accepts one parameter, `geom`. The function should take any kind of Shapely’s geometry objects (any instance of `shapely.geometry.base.BaseGeometry`) as an input, and return the centroid of that geometry. Check that the input is a `shapely.geometry.base.BaseGeometry` or one of its child classes. Otherwise, raise the error \"Input must be a shapely geometry\". *Hint: Check [isinstance](https://www.w3schools.com/python/ref_func_isinstance.asp) and [raise](https://www.w3schools.com/python/gloss_python_raise.asp)*\n"
      ],
      "metadata": {
        "id": "meBHGSvPjnfA"
      }
    },
    {
      "cell_type": "code",
      "source": [
        "from shapely.geometry.base import BaseGeometry"
      ],
      "metadata": {
        "id": "CyUtf5JclV-g"
      },
      "execution_count": 62,
      "outputs": []
    },
    {
      "cell_type": "code",
      "source": [
        "def get_centroid(geom):\n",
        "  if isinstance(geom, BaseGeometry):\n",
        "    return geom.centroid \n",
        "  else:\n",
        "      print(\"Input must be a shapely geometry\");\n",
        "# function get_centroid()"
      ],
      "metadata": {
        "id": "5VpxRjMWkKHS"
      },
      "execution_count": 64,
      "outputs": []
    },
    {
      "cell_type": "code",
      "source": [
        "centroid = get_centroid(polygon1)\n",
        "print(centroid)"
      ],
      "metadata": {
        "id": "gtmgmC2ykc_W",
        "colab": {
          "base_uri": "https://localhost:8080/"
        },
        "outputId": "40765316-47f6-4178-d6aa-e4833556a171"
      },
      "execution_count": 65,
      "outputs": [
        {
          "output_type": "stream",
          "name": "stdout",
          "text": [
            "POINT (71.80666666666667 9.780000000000001)\n"
          ]
        }
      ]
    },
    {
      "cell_type": "code",
      "source": [
        "try:\n",
        "  # Pass something else than a Shapely geometry\n",
        "  get_centroid(\"Give me a centroid!\")\n",
        "except TypeError as exception:\n",
        "  print(f\"The function (correctly) detected an error. \\nThe error message was: {exception.args[0]}\")"
      ],
      "metadata": {
        "id": "uIrwZqnHnmzI",
        "colab": {
          "base_uri": "https://localhost:8080/"
        },
        "outputId": "726877ad-3ccc-4739-e3ff-0899271b24e3"
      },
      "execution_count": 66,
      "outputs": [
        {
          "output_type": "stream",
          "name": "stdout",
          "text": [
            "Input must be a shapely geometry\n"
          ]
        }
      ]
    },
    {
      "cell_type": "markdown",
      "source": [
        "5. Create a function **get_area()** accepting one parameter `geom`. The function should accept a `shapely.geometry.Polygon` and return its area. If the argument is anything else, raise an error: \"Input should be a shapely.geometry.Polygon\"."
      ],
      "metadata": {
        "id": "XFFPqA4Sn2K6"
      }
    },
    {
      "cell_type": "code",
      "source": [
        "def get_area(geom): \n",
        "  if isinstance(geom, Polygon):\n",
        "    return geom.area\n",
        "  else:\n",
        "    print(\"Input should be a shapely.geometry.Polygon\")\n",
        "# function get_area()"
      ],
      "metadata": {
        "id": "dtrOiq74oFgM"
      },
      "execution_count": 67,
      "outputs": []
    },
    {
      "cell_type": "code",
      "source": [
        "area = get_area(polygon1)\n",
        "print(round(area, 2))"
      ],
      "metadata": {
        "id": "dFDTjHErogqJ",
        "colab": {
          "base_uri": "https://localhost:8080/"
        },
        "outputId": "fcde1f5b-ea3e-4ad1-af4c-ba2423a11e08"
      },
      "execution_count": 68,
      "outputs": [
        {
          "output_type": "stream",
          "name": "stdout",
          "text": [
            "17.28\n"
          ]
        }
      ]
    },
    {
      "cell_type": "code",
      "source": [
        "try:\n",
        "  # Pass something else than a Shapely geometry\n",
        "  get_area(\"Give me an area!\")\n",
        "except TypeError as exception:\n",
        "  print(f\"The function (correctly) detected an error. \\nThe error message was: {exception.args[0]}\")\n"
      ],
      "metadata": {
        "id": "USpsh3WGo_wI",
        "colab": {
          "base_uri": "https://localhost:8080/"
        },
        "outputId": "820b55bf-3b92-46b4-a6a4-5bc4fc2ba082"
      },
      "execution_count": 69,
      "outputs": [
        {
          "output_type": "stream",
          "name": "stdout",
          "text": [
            "Input should be a shapely.geometry.Polygon\n"
          ]
        }
      ]
    },
    {
      "cell_type": "markdown",
      "source": [
        "6. Create a function `get_length()` accepting one parameter `geom`. The function should accept either a `shapely.geometry.LineString` or a `shapely.geometry.Polygon` as input. Check the type of the input and return the length of the line if input is a `LineString` and length of the exterior ring if the input is a `Polygon`. If something else is passed to the function, raise an error \"Input should be either a LineString or a Polygon\".\n",
        "\n"
      ],
      "metadata": {
        "id": "xiL_jgpppSq-"
      }
    },
    {
      "cell_type": "code",
      "source": [
        "def get_length(geom):\n",
        "  if isinstance(geom,LineString):\n",
        "    return geom.length\n",
        "  if isinstance(geom, Polygon):\n",
        "    return geom.length\n",
        "  else:\n",
        "    print(\"Input should be either a LineString or a Polygon\")\n",
        "# function get_length()"
      ],
      "metadata": {
        "id": "8wijSoSqrDBN"
      },
      "execution_count": 79,
      "outputs": []
    },
    {
      "cell_type": "code",
      "source": [
        "print(f\"Line length is {get_length(line1):.2f}\")\n",
        "print(f\"Polygon exterior length is {get_length(polygon1):.2f}\")"
      ],
      "metadata": {
        "id": "ECiYhK99r7Gv",
        "colab": {
          "base_uri": "https://localhost:8080/"
        },
        "outputId": "7aceba08-f13b-4818-942f-25bd73596568"
      },
      "execution_count": 80,
      "outputs": [
        {
          "output_type": "stream",
          "name": "stdout",
          "text": [
            "Line length is 60.66\n",
            "Polygon exterior length is 121.33\n"
          ]
        }
      ]
    },
    {
      "cell_type": "code",
      "source": [
        "# NON-EDITABLE CODE CELL FOR TESTING YOUR SOLUTION\n",
        "try:\n",
        "  # Pass something else\n",
        "  get_length(Point(1,0))\n",
        "except TypeError as exception:\n",
        "  print(f\"The function (correctly) detected an error. \\nThe error message was: {exception.args[0]}\")"
      ],
      "metadata": {
        "id": "1ZbKOQv8tnHr",
        "colab": {
          "base_uri": "https://localhost:8080/"
        },
        "outputId": "8b38538f-3ee1-4456-fc25-99ac35aca88e"
      },
      "execution_count": 81,
      "outputs": [
        {
          "output_type": "stream",
          "name": "stdout",
          "text": [
            "Input should be either a LineString or a Polygon\n"
          ]
        }
      ]
    }
  ]
}