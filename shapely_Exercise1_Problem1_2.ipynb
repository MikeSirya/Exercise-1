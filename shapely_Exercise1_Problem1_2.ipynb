{
  "nbformat": 4,
  "nbformat_minor": 0,
  "metadata": {
    "colab": {
      "provenance": [],
      "include_colab_link": true
    },
    "kernelspec": {
      "name": "python3",
      "display_name": "Python 3"
    },
    "language_info": {
      "name": "python"
    }
  },
  "cells": [
    {
      "cell_type": "markdown",
      "metadata": {
        "id": "view-in-github",
        "colab_type": "text"
      },
      "source": [
        "<a href=\"https://colab.research.google.com/github/MikeSirya/Exercise-1/blob/main/shapely_Exercise1_Problem1_2.ipynb\" target=\"_parent\"><img src=\"https://colab.research.google.com/assets/colab-badge.svg\" alt=\"Open In Colab\"/></a>"
      ]
    },
    {
      "cell_type": "markdown",
      "source": [
        "Source: https://github.com/Automating-GIS-processes-2022/Exercise-1/blob/main/Exercise-1-problem-1-2.ipynb"
      ],
      "metadata": {
        "id": "BHs6ggXof-wJ"
      }
    },
    {
      "cell_type": "markdown",
      "source": [
        "### Exercise 1: Working with Geometric Objects"
      ],
      "metadata": {
        "id": "d_SA9C7LgCRU"
      }
    },
    {
      "cell_type": "markdown",
      "source": [
        "#### Problem 1: Creating basic geometries\n",
        "\n",
        "You will create custom functions that create geometry objects."
      ],
      "metadata": {
        "id": "lwIJzwWqgNNk"
      }
    },
    {
      "cell_type": "code",
      "source": [
        "import shapely \n",
        "from shapely.geometry import Point, LineString, Polygon"
      ],
      "metadata": {
        "id": "sV2M1vDChgn0"
      },
      "execution_count": 13,
      "outputs": []
    },
    {
      "cell_type": "markdown",
      "source": [
        "1. Create a function called **create_point_geometry()** that accepts two parameters, `x_coord` and `y_coord`. The function should return a `shapely.geometry.Point` geometry object."
      ],
      "metadata": {
        "id": "KhVcKiq9gcMb"
      }
    },
    {
      "cell_type": "code",
      "source": [
        "def create_point_geometry(x_coord,y_coord):\n",
        "  return Point(x_coord,y_coord);\n",
        "# function create_point_geometry()"
      ],
      "metadata": {
        "id": "iRS2pAPFgZVV"
      },
      "execution_count": 14,
      "outputs": []
    },
    {
      "cell_type": "code",
      "source": [
        "point1 = create_point_geometry(0.0,1.1)\n",
        "# Demonstrate how to use your function: Create a point object with coordinates 0.0 and 1.1, and store the result in a variable called point1."
      ],
      "metadata": {
        "id": "vpv_JF4MtoxG"
      },
      "execution_count": 17,
      "outputs": []
    },
    {
      "cell_type": "code",
      "source": [
        "print(point1)\n",
        "print(point1.geom_type)"
      ],
      "metadata": {
        "id": "OxxttFgTh6O1",
        "colab": {
          "base_uri": "https://localhost:8080/"
        },
        "outputId": "0f639a2b-4557-4d3c-c71c-dd854b683c32"
      },
      "execution_count": 18,
      "outputs": [
        {
          "output_type": "stream",
          "name": "stdout",
          "text": [
            "POINT (0 1.1)\n",
            "Point\n"
          ]
        }
      ]
    },
    {
      "cell_type": "markdown",
      "source": [
        "2. Create a function called **create_line_geometry()** that takes a list of `shapely.geometry.Points` as an argument, and returns a `shapely.geometry.LineString` object of those input points."
      ],
      "metadata": {
        "id": "4ErNhlZ3iHYN"
      }
    },
    {
      "cell_type": "code",
      "source": [
        "from IPython.lib.display import YouTubeVideo\n",
        "\n",
        "def create_line_geometry(point(x_coord,y_coord)):\n",
        "  return linestring(point);\n",
        "\n",
        "# function create_line_geometry()"
      ],
      "metadata": {
        "id": "C_fG_mBciOFz"
      },
      "execution_count": 30,
      "outputs": []
    },
    {
      "cell_type": "code",
      "source": [
        "line1 = create_point_geometry([point(45.2,22.34),point(100.22, -3.20)])\n",
        "# Demonstrate how to use your function: Create a line object with two points, Point(45.2, 22.34) and Point(100.22, -3.20), and store the result in a variable called line1."
      ],
      "metadata": {
        "id": "ecal8z2eiX1S",
        "colab": {
          "base_uri": "https://localhost:8080/",
          "height": 201
        },
        "outputId": "f32038c2-45f1-4c68-d782-5da00fb85436"
      },
      "execution_count": 32,
      "outputs": [
        {
          "output_type": "error",
          "ename": "NameError",
          "evalue": "ignored",
          "traceback": [
            "\u001b[0;31m---------------------------------------------------------------------------\u001b[0m",
            "\u001b[0;31mNameError\u001b[0m                                 Traceback (most recent call last)",
            "\u001b[0;32m<ipython-input-32-1ad17c083daf>\u001b[0m in \u001b[0;36m<module>\u001b[0;34m\u001b[0m\n\u001b[0;32m----> 1\u001b[0;31m \u001b[0mline1\u001b[0m \u001b[0;34m=\u001b[0m \u001b[0mcreate_point_geometry\u001b[0m\u001b[0;34m(\u001b[0m\u001b[0;34m[\u001b[0m\u001b[0mpoint\u001b[0m\u001b[0;34m(\u001b[0m\u001b[0;36m45.2\u001b[0m\u001b[0;34m,\u001b[0m\u001b[0;36m22.34\u001b[0m\u001b[0;34m)\u001b[0m\u001b[0;34m,\u001b[0m\u001b[0mpoint\u001b[0m\u001b[0;34m(\u001b[0m\u001b[0;36m100.22\u001b[0m\u001b[0;34m,\u001b[0m \u001b[0;34m-\u001b[0m\u001b[0;36m3.20\u001b[0m\u001b[0;34m)\u001b[0m\u001b[0;34m]\u001b[0m\u001b[0;34m)\u001b[0m\u001b[0;34m\u001b[0m\u001b[0;34m\u001b[0m\u001b[0m\n\u001b[0m\u001b[1;32m      2\u001b[0m \u001b[0;31m# Demonstrate how to use your function: Create a line object with two points, Point(45.2, 22.34) and Point(100.22, -3.20), and store the result in a variable called line1.\u001b[0m\u001b[0;34m\u001b[0m\u001b[0;34m\u001b[0m\u001b[0;34m\u001b[0m\u001b[0m\n",
            "\u001b[0;31mNameError\u001b[0m: name 'point' is not defined"
          ]
        }
      ]
    },
    {
      "cell_type": "code",
      "source": [
        "print(line1)\n",
        "print(line1.geom_type)"
      ],
      "metadata": {
        "id": "GlhwmecosPLR"
      },
      "execution_count": null,
      "outputs": []
    },
    {
      "cell_type": "markdown",
      "source": [
        "3. Create a function **create_polygon_geometry()** that accepts one parameter `coordinates`. `coordinates` should be a list of coordinate tuples. The function should create and return a `shapely.geometry.Polygon` object based on these coordinates."
      ],
      "metadata": {
        "id": "w8LJ84XFiwGY"
      }
    },
    {
      "cell_type": "code",
      "source": [
        "# ADD YOUR OWN CODE HERE\n",
        "# function create_polygon_geometry()"
      ],
      "metadata": {
        "id": "ELT8aXnWi9Mz"
      },
      "execution_count": null,
      "outputs": []
    },
    {
      "cell_type": "code",
      "source": [
        "# ADD YOUR OWN CODE HERE\n",
        "# Demonstrate how to use the function. For example, create a Polygon polygon1 with three points: (45.2, 22.34), (100.22, -3.20), (70.0, 10.20)."
      ],
      "metadata": {
        "id": "GhExBJE6jH9h"
      },
      "execution_count": null,
      "outputs": []
    },
    {
      "cell_type": "code",
      "source": [
        "print(polygon1)\n",
        "print(polygon1.geom_type)"
      ],
      "metadata": {
        "id": "pKU4SlCgsq6g"
      },
      "execution_count": null,
      "outputs": []
    },
    {
      "cell_type": "markdown",
      "source": [
        "#### Problem 2: Attributes of geometries\n",
        "\n",
        "You will look at the geometric properties of geometries, and how to access them."
      ],
      "metadata": {
        "id": "BGcgFy-Djfuv"
      }
    },
    {
      "cell_type": "markdown",
      "source": [
        "4. Create a function called `get_centroid()` that accepts one parameter, `geom`. The function should take any kind of Shapely’s geometry objects (any instance of `shapely.geometry.base.BaseGeometry`) as an input, and return the centroid of that geometry. Check that the input is a `shapely.geometry.base.BaseGeometry` or one of its child classes. Otherwise, raise the error \"Input must be a shapely geometry\". *Hint: Check [isinstance](https://www.w3schools.com/python/ref_func_isinstance.asp) and [raise](https://www.w3schools.com/python/gloss_python_raise.asp)*\n"
      ],
      "metadata": {
        "id": "meBHGSvPjnfA"
      }
    },
    {
      "cell_type": "code",
      "source": [
        "from shapely.geometry.base import BaseGeometry"
      ],
      "metadata": {
        "id": "CyUtf5JclV-g"
      },
      "execution_count": null,
      "outputs": []
    },
    {
      "cell_type": "code",
      "source": [
        "# ADD YOUR OWN CODE HERE\n",
        "# function get_centroid()"
      ],
      "metadata": {
        "id": "5VpxRjMWkKHS"
      },
      "execution_count": null,
      "outputs": []
    },
    {
      "cell_type": "code",
      "source": [
        "centroid = get_centroid(polygon1)\n",
        "print(centroid)"
      ],
      "metadata": {
        "id": "gtmgmC2ykc_W"
      },
      "execution_count": null,
      "outputs": []
    },
    {
      "cell_type": "code",
      "source": [
        "try:\n",
        "  # Pass something else than a Shapely geometry\n",
        "  get_centroid(\"Give me a centroid!\")\n",
        "except TypeError as exception:\n",
        "  print(f\"The function (correctly) detected an error. \\nThe error message was: {exception.args[0]}\")"
      ],
      "metadata": {
        "id": "uIrwZqnHnmzI"
      },
      "execution_count": null,
      "outputs": []
    },
    {
      "cell_type": "markdown",
      "source": [
        "5. Create a function **get_area()** accepting one parameter `geom`. The function should accept a `shapely.geometry.Polygon` and return its area. If the argument is anything else, raise an error: \"Input should be a shapely.geometry.Polygon\"."
      ],
      "metadata": {
        "id": "XFFPqA4Sn2K6"
      }
    },
    {
      "cell_type": "code",
      "source": [
        "# ADD YOUR OWN CODE HERE\n",
        "# function get_area()"
      ],
      "metadata": {
        "id": "dtrOiq74oFgM"
      },
      "execution_count": null,
      "outputs": []
    },
    {
      "cell_type": "code",
      "source": [
        "area = get_area(polygon1)\n",
        "print(round(area, 2))"
      ],
      "metadata": {
        "id": "dFDTjHErogqJ"
      },
      "execution_count": null,
      "outputs": []
    },
    {
      "cell_type": "code",
      "source": [
        "try:\n",
        "  # Pass something else than a Shapely geometry\n",
        "  get_area(\"Give me an area!\")\n",
        "except TypeError as exception:\n",
        "  print(f\"The function (correctly) detected an error. \\nThe error message was: {exception.args[0]}\")\n"
      ],
      "metadata": {
        "id": "USpsh3WGo_wI"
      },
      "execution_count": null,
      "outputs": []
    },
    {
      "cell_type": "markdown",
      "source": [
        "6. Create a function `get_length()` accepting one parameter `geom`. The function should accept either a `shapely.geometry.LineString` or a `shapely.geometry.Polygon` as input. Check the type of the input and return the length of the line if input is a `LineString` and length of the exterior ring if the input is a `Polygon`. If something else is passed to the function, raise an error \"Input should be either a LineString or a Polygon\".\n",
        "\n"
      ],
      "metadata": {
        "id": "xiL_jgpppSq-"
      }
    },
    {
      "cell_type": "code",
      "source": [
        "# ADD YOUR OWN CODE HERE\n",
        "# function get_length()"
      ],
      "metadata": {
        "id": "8wijSoSqrDBN"
      },
      "execution_count": null,
      "outputs": []
    },
    {
      "cell_type": "code",
      "source": [
        "print(f\"Line length is {get_length(line1):.2f}\")\n",
        "print(f\"Polygon exterior length is {get_length(polygon1):.2f}\")"
      ],
      "metadata": {
        "id": "ECiYhK99r7Gv"
      },
      "execution_count": null,
      "outputs": []
    },
    {
      "cell_type": "code",
      "source": [
        "# NON-EDITABLE CODE CELL FOR TESTING YOUR SOLUTION\n",
        "try:\n",
        "  # Pass something else\n",
        "  get_length(Point(1,0))\n",
        "except TypeError as exception:\n",
        "  print(f\"The function (correctly) detected an error. \\nThe error message was: {exception.args[0]}\")"
      ],
      "metadata": {
        "id": "1ZbKOQv8tnHr"
      },
      "execution_count": null,
      "outputs": []
    }
  ]
}