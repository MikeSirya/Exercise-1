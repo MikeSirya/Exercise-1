{
  "nbformat": 4,
  "nbformat_minor": 0,
  "metadata": {
    "colab": {
      "provenance": [],
      "collapsed_sections": [],
      "authorship_tag": "ABX9TyMmGbiB8Eth11c2CC+cAGpo",
      "include_colab_link": true
    },
    "kernelspec": {
      "name": "python3",
      "display_name": "Python 3"
    },
    "language_info": {
      "name": "python"
    }
  },
  "cells": [
    {
      "cell_type": "markdown",
      "metadata": {
        "id": "view-in-github",
        "colab_type": "text"
      },
      "source": [
        "<a href=\"https://colab.research.google.com/github/MikeSirya/Exercise-1/blob/main/Exercise1.ipynb\" target=\"_parent\"><img src=\"https://colab.research.google.com/assets/colab-badge.svg\" alt=\"Open In Colab\"/></a>"
      ]
    },
    {
      "cell_type": "code",
      "execution_count": null,
      "metadata": {
        "id": "PCFfBfakhN6H"
      },
      "outputs": [],
      "source": [
        "ice_cream_rating = 7"
      ]
    },
    {
      "cell_type": "markdown",
      "source": [],
      "metadata": {
        "id": "cn9cRHSMmVke"
      }
    },
    {
      "cell_type": "code",
      "source": [
        "sleep_rating = 8"
      ],
      "metadata": {
        "id": "iKP839hhhzXM"
      },
      "execution_count": null,
      "outputs": []
    },
    {
      "cell_type": "code",
      "source": [],
      "metadata": {
        "id": "UQlM-3PQiHwE"
      },
      "execution_count": null,
      "outputs": []
    },
    {
      "cell_type": "code",
      "source": [
        "first_name = input('What is your first name?')\n",
        "last_name = input(' What is your last name ?')\n",
        "my_name = (first_name +\" \" + last_name)\n",
        "print(my_name)"
      ],
      "metadata": {
        "colab": {
          "base_uri": "https://localhost:8080/"
        },
        "id": "X7dRM8W6iPiD",
        "outputId": "59b40df7-040e-4fcb-ab90-63bf9d5a0c08"
      },
      "execution_count": null,
      "outputs": [
        {
          "output_type": "stream",
          "name": "stdout",
          "text": [
            "What is your first name?mike\n",
            " What is your last name ?sirya\n",
            "mike sirya\n"
          ]
        }
      ]
    },
    {
      "cell_type": "code",
      "source": [
        "happiness_rating = ((ice_cream_rating + sleep_rating)/2)"
      ],
      "metadata": {
        "id": "YBVBBk3ck333"
      },
      "execution_count": null,
      "outputs": []
    },
    {
      "cell_type": "markdown",
      "source": [
        "## Problem 4\n"
      ],
      "metadata": {
        "id": "EVWmypBtlzRP"
      }
    },
    {
      "cell_type": "code",
      "source": [
        "type(ice_cream_rating)\n",
        "type(first_name)\n",
        "type(last_name)\n",
        "type(sleep_rating)\n",
        "type(happiness_rating)\n",
        "print(type(ice_cream_rating),\"\\n\" ,type(first_name),\"\\n\", type(last_name),\"\\n\", type(happiness_rating))"
      ],
      "metadata": {
        "colab": {
          "base_uri": "https://localhost:8080/"
        },
        "id": "72ZLp-k5mTvF",
        "outputId": "6204049a-f8e9-4a8c-d009-7c81fb636d2f"
      },
      "execution_count": null,
      "outputs": [
        {
          "output_type": "stream",
          "name": "stdout",
          "text": [
            "<class 'int'> \n",
            " <class 'str'> \n",
            " <class 'str'> \n",
            " <class 'float'>\n"
          ]
        }
      ]
    },
    {
      "cell_type": "markdown",
      "source": [
        "## Problem 5"
      ],
      "metadata": {
        "id": "y8yvG-IN-c2C"
      }
    },
    {
      "cell_type": "code",
      "source": [
        "from ctypes import string_at\n",
        "from pickle import STRING\n",
        "print(\"My name is \" +first_name+ \" and I give eating ice cream a score of \" +str(ice_cream_rating)+ \" out of 10!\\n I am \" + my_name +  \" and my sleeping enjoyment rating is \" +str(sleep_rating)+ \" / 10!\\n Based on the factors above, my happiness rating is \" +str(happiness_rating)+ \" out of 10, or \" +str((happiness_rating/10)*100)+\" %!\")\n"
      ],
      "metadata": {
        "colab": {
          "base_uri": "https://localhost:8080/"
        },
        "id": "_qpkytt2ZBMq",
        "outputId": "e2386345-17ec-476b-bf5b-fb033ea89b61"
      },
      "execution_count": null,
      "outputs": [
        {
          "output_type": "stream",
          "name": "stdout",
          "text": [
            "My name is mike and I give eating ice cream a score of 7 out of 10!\n",
            " I am mike sirya and my sleeping enjoyment rating is 8 / 10!\n",
            " Based on the factors above, my happiness rating is 7.5 out of 10, or 75.0 %!\n"
          ]
        }
      ]
    },
    {
      "cell_type": "code",
      "source": [],
      "metadata": {
        "id": "jke4PXM9cFdv"
      },
      "execution_count": null,
      "outputs": []
    },
    {
      "cell_type": "markdown",
      "source": [],
      "metadata": {
        "id": "3p6Uw6w4oURq"
      }
    }
  ]
}